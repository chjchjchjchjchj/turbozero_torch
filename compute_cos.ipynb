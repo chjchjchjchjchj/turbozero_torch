{
 "cells": [
  {
   "cell_type": "code",
   "execution_count": 2,
   "metadata": {},
   "outputs": [],
   "source": [
    "import numpy as np\n",
    "from tqdm import trange\n",
    "from pathlib import Path\n",
    "import zarr\n",
    "\n",
    "vectors = np.load(\"24D_196560_1.npy\")\n",
    "# save_dir = Path(\"/data/haojun/cos_matrix\")\n",
    "# save_dir.mkdir(exist_ok=True, parents=True)\n",
    "# N = vectors.shape[0]\n",
    "# valid_values = np.array([0, -1, -1/4, 1/4, -1/2, 1/2, 1], dtype=np.float32)\n",
    "# batch_size=100\n",
    "# for i in trange(0, N, batch_size):\n",
    "#     end = min(i + batch_size, N)\n",
    "#     vectors_a = vectors[i:end]\n",
    "#     cos_arr = vectors_a @ vectors.T\n",
    "#     cos_arr = cos_arr.astype(np.float16)\n",
    "#     m = cos_arr.shape[0]\n",
    "#     for j in range(m):\n",
    "#         save_path = save_dir / f\"{i + j}.zarr\"\n",
    "#         # print(save_path)\n",
    "#         zarr.save(save_path, cos_arr[j])"
   ]
  },
  {
   "cell_type": "code",
   "execution_count": 3,
   "metadata": {},
   "outputs": [],
   "source": [
    "vectors_a = vectors[:10]"
   ]
  },
  {
   "cell_type": "code",
   "execution_count": 4,
   "metadata": {},
   "outputs": [],
   "source": [
    "cos_arr = vectors_a @ vectors.T"
   ]
  },
  {
   "cell_type": "code",
   "execution_count": null,
   "metadata": {},
   "outputs": [],
   "source": [
    "cos_arr = np.array([\n",
    "    [1.1, 2.1, 3.1],\n",
    "    [1.0, 2.0, 3.0],\n",
    "    [0.9, 1.9, 2.9]\n",
    "])"
   ]
  },
  {
   "cell_type": "code",
   "execution_count": null,
   "metadata": {},
   "outputs": [],
   "source": []
  }
 ],
 "metadata": {
  "language_info": {
   "name": "python"
  }
 },
 "nbformat": 4,
 "nbformat_minor": 2
}
